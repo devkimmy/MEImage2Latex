{
 "cells": [
  {
   "cell_type": "code",
   "execution_count": 1,
   "metadata": {},
   "outputs": [],
   "source": [
    "import numpy as np\n",
    "from os import listdir\n",
    "from skimage import io\n",
    "import matplotlib.pyplot as plt\n",
    "from skimage.transform import resize, rotate\n",
    "from skimage.util import random_noise\n",
    "import tensorflow as tf\n",
    "import math\n",
    "import os"
   ]
  },
  {
   "cell_type": "code",
   "execution_count": 12,
   "metadata": {},
   "outputs": [],
   "source": [
    "path = \"normalize_test\"\n",
    "label_names = ['0', '1', '2', '3', '4', '5', '6', '7', '8', '9',\n",
    "               '-', '(', ')', '+', 'alpha', 'beta', 'theta',\n",
    "               'a', 'b', 'i', 'j', 'k', 'm', 'n', 't', 'x', 'y', 'z']\n",
    "nof_labels = len(label_names)"
   ]
  },
  {
   "cell_type": "code",
   "execution_count": 13,
   "metadata": {},
   "outputs": [
    {
     "name": "stdout",
     "output_type": "stream",
     "text": [
      "#nof_images:  11200\n",
      "{'0': 0, '1': 1, '2': 2, '3': 3, '4': 4, '5': 5, '6': 6, '7': 7, '8': 8, '9': 9, '-': 10, '(': 11, ')': 12, '+': 13, 'alpha': 14, 'beta': 15, 'theta': 16, 'a': 17, 'b': 18, 'i': 19, 'j': 20, 'k': 21, 'm': 22, 'n': 23, 't': 24, 'x': 25, 'y': 26, 'z': 27}\n"
     ]
    }
   ],
   "source": [
    "nof_images = 0\n",
    "\n",
    "# get number of images\n",
    "labels_dict = dict()\n",
    "i = 0\n",
    "for label in label_names:\n",
    "    files = listdir(path+\"/\"+label)\n",
    "    nof_images += len(files)\n",
    "    labels_dict[label] = i\n",
    "    i += 1\n",
    "print(\"#nof_images: \", nof_images)\n",
    "print(labels_dict)\n",
    "\n",
    "images = np.zeros((nof_images, 48, 48), dtype=np.float32)\n",
    "labels = np.zeros(nof_images, dtype=np.int)"
   ]
  },
  {
   "cell_type": "code",
   "execution_count": 14,
   "metadata": {},
   "outputs": [
    {
     "name": "stdout",
     "output_type": "stream",
     "text": [
      "At i=0\n",
      "At i=1000\n",
      "At i=2000\n",
      "At i=3000\n",
      "At i=4000\n",
      "At i=5000\n",
      "At i=6000\n",
      "At i=7000\n",
      "At i=8000\n",
      "At i=9000\n",
      "At i=10000\n",
      "At i=11000\n",
      "Finished\n"
     ]
    }
   ],
   "source": [
    "i = 0\n",
    "for label in label_names:\n",
    "    files = listdir(path+\"/\"+label)\n",
    "    label_no = labels_dict[label]\n",
    "    \n",
    "    for file in files:\n",
    "        if i % 1000 == 0:\n",
    "            print(\"At i=%d\" % i)\n",
    "        img = io.imread(path+\"/\"+label+\"/\"+file).astype(np.float32)\n",
    "        img /= 255\n",
    "               \n",
    "        images[i] = img\n",
    "        labels[i] = label_no\n",
    "\n",
    "        i += 1\n",
    "print(\"Finished\")"
   ]
  },
  {
   "cell_type": "code",
   "execution_count": 15,
   "metadata": {},
   "outputs": [
    {
     "data": {
      "image/png": "[encoded data removed]",
      "text/plain": [
       "<Figure size 432x288 with 1 Axes>"
      ]
     },
     "metadata": {
      "needs_background": "light"
     },
     "output_type": "display_data"
    }
   ],
   "source": [
    "plt.hist(labels, nof_labels)\n",
    "plt.show()"
   ]
  },
  {
   "cell_type": "code",
   "execution_count": 6,
   "metadata": {},
   "outputs": [
    {
     "data": {
      "image/png": "[encoded data removed]",
      "text/plain": [
       "<Figure size 432x288 with 1 Axes>"
      ]
     },
     "metadata": {
      "needs_background": "light"
     },
     "output_type": "display_data"
    }
   ],
   "source": [
    "plt.imshow(images[500], cmap=\"gray\")\n",
    "plt.show()"
   ]
  },
  {
   "cell_type": "code",
   "execution_count": 16,
   "metadata": {},
   "outputs": [],
   "source": [
    "np.save(\"test_images\", images)\n",
    "np.save(\"test_labels\", labels)"
   ]
  },
  {
   "cell_type": "code",
   "execution_count": 8,
   "metadata": {},
   "outputs": [],
   "source": [
    "train_images = np.load('train_images.npy')\n",
    "train_labels = np.load('train_labels.npy')\n",
    "mean_tr = np.mean(train_images, axis=0)\n",
    "std_tr = np.std(train_images, axis=0)"
   ]
  },
  {
   "cell_type": "code",
   "execution_count": 9,
   "metadata": {},
   "outputs": [],
   "source": [
    "train_images-=mean_tr\n",
    "train_images/=std_tr"
   ]
  },
  {
   "cell_type": "code",
   "execution_count": 10,
   "metadata": {},
   "outputs": [
    {
     "name": "stdout",
     "output_type": "stream",
     "text": [
      "3\n"
     ]
    },
    {
     "data": {
      "image/png": "[encoded data removed]",
      "text/plain": [
       "<Figure size 432x288 with 1 Axes>"
      ]
     },
     "metadata": {
      "needs_background": "light"
     },
     "output_type": "display_data"
    }
   ],
   "source": [
    "plt.imshow(train_images[7200], cmap=\"gray\")\n",
    "print(train_labels[7600])\n",
    "plt.show()\n"
   ]
  },
  {
   "cell_type": "code",
   "execution_count": 11,
   "metadata": {},
   "outputs": [],
   "source": [
    "np.save('mean_tr', mean_tr)\n",
    "np.save('std_tr', std_tr)"
   ]
  }
 ],
 "metadata": {
  "kernelspec": {
   "display_name": "Python 3",
   "language": "python",
   "name": "python3"
  },
  "language_info": {
   "codemirror_mode": {
    "name": "ipython",
    "version": 3
   },
   "file_extension": ".py",
   "mimetype": "text/x-python",
   "name": "python",
   "nbconvert_exporter": "python",
   "pygments_lexer": "ipython3",
   "version": "3.7.7"
  }
 },
 "nbformat": 4,
 "nbformat_minor": 4
}
