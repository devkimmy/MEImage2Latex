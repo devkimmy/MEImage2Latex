{
 "cells": [
  {
   "cell_type": "code",
   "execution_count": 8,
   "metadata": {},
   "outputs": [],
   "source": [
    "import os\n",
    "import numpy as np\n",
    "import cv2\n",
    "import math\n",
    "from scipy import ndimage\n",
    "from skimage.util import random_noise, invert\n",
    "from skimage import io\n",
    "from keras.models import load_model\n",
    "from keras.preprocessing import image\n",
    "from matplotlib import pyplot as plt"
   ]
  },
  {
   "cell_type": "code",
   "execution_count": 9,
   "metadata": {},
   "outputs": [
    {
     "name": "stdout",
     "output_type": "stream",
     "text": [
      "{'0': 0, '1': 1, '2': 2, '3': 3, '4': 4, '5': 5, '6': 6, '7': 7, '8': 8, '9': 9, '-': 10, '(': 11, ')': 12, '+': 13, 'alpha': 14, 'beta': 15, 'theta': 16, 'a': 17, 'b': 18, 'i': 19, 'j': 20, 'k': 21, 'm': 22, 'n': 23, 't': 24, 'x': 25, 'y': 26, 'z': 27}\n"
     ]
    }
   ],
   "source": [
    "label_names = ['0', '1', '2', '3', '4', '5', '6', '7', '8', '9',\n",
    "               '-', '(', ')', '+', 'alpha', 'beta', 'theta',\n",
    "               'a', 'b', 'i', 'j', 'k', 'm', 'n', 't', 'x', 'y', 'z']\n",
    "label_names_dict = dict()\n",
    "for label,no in zip(label_names,list(range(len(label_names)))):\n",
    "    label_names_dict[label] = no\n",
    "print(label_names_dict)"
   ]
  },
  {
   "cell_type": "code",
   "execution_count": 10,
   "metadata": {},
   "outputs": [],
   "source": [
    "def normalize_single(symbol):\n",
    "    symbol = np.copy(symbol)\n",
    "    symbol = symbol / np.max(symbol)\n",
    "    rows, cols = symbol.shape\n",
    "    # scale to 40x40\n",
    "    inner_size = 40\n",
    "    if rows > cols:\n",
    "        factor = inner_size/rows\n",
    "        rows = inner_size\n",
    "        cols = int(round(cols*factor))\n",
    "        inner = cv2.resize(symbol, (cols,rows))\n",
    "    else:\n",
    "        factor = inner_size/cols\n",
    "        cols = inner_size\n",
    "        rows = int(round(rows*factor))\n",
    "        inner = cv2.resize(symbol, (cols, rows))\n",
    "\n",
    "    # pad to 48x48\n",
    "    outer_size = 48\n",
    "    colsPadding = (int(math.ceil((outer_size-cols)/2.0)),int(math.floor((outer_size-cols)/2.0)))\n",
    "    rowsPadding = (int(math.ceil((outer_size-rows)/2.0)),int(math.floor((outer_size-rows)/2.0)))\n",
    "    outer = np.pad(inner,(rowsPadding,colsPadding),'constant', constant_values=(1,1))\n",
    "    \n",
    "    # center the mass\n",
    "#     shiftx,shifty = getBestShift(outer)\n",
    "#     shifted = shift(outer,shiftx,shifty)\n",
    "    return outer\n",
    "    \n",
    "def getBestShift(img):\n",
    "    inv = invert(img)\n",
    "    cy,cx = ndimage.measurements.center_of_mass(img)\n",
    "\n",
    "    rows,cols = img.shape\n",
    "    shiftx = np.round(cols/2.0-cx).astype(int)\n",
    "    shifty = np.round(rows/2.0-cy).astype(int)\n",
    "\n",
    "    return shiftx,shifty\n",
    "\n",
    "def shift(img,sx,sy):\n",
    "    rows,cols = img.shape\n",
    "    M = np.float32([[1,0,sx],[0,1,sy]])\n",
    "    shifted = cv2.warpAffine(img,M,(cols,rows), borderValue=1)\n",
    "    return shifted\n",
    "def predict(images):\n",
    "    symbols=[]\n",
    "    "
   ]
  },
  {
   "cell_type": "code",
   "execution_count": 58,
   "metadata": {},
   "outputs": [
    {
     "name": "stdout",
     "output_type": "stream",
     "text": [
      "-- Predict --\n"
     ]
    },
    {
     "data": {
      "image/png": "[encoded data removed]",
      "text/plain": [
       "<Figure size 432x288 with 1 Axes>"
      ]
     },
     "metadata": {
      "needs_background": "light"
     },
     "output_type": "display_data"
    },
    {
     "data": {
      "image/png": "[encoded data removed]",
      "text/plain": [
       "<Figure size 432x288 with 1 Axes>"
      ]
     },
     "metadata": {
      "needs_background": "light"
     },
     "output_type": "display_data"
    },
    {
     "name": "stdout",
     "output_type": "stream",
     "text": [
      "(2, 48, 48)\n",
      "(2, 48, 48, 1)\n",
      "['alpha']\n",
      "['beta']\n"
     ]
    }
   ],
   "source": [
    "model = load_model('norm_ext_v1.h5')\n",
    "mean_tr = np.load('mean_tr.npy')\n",
    "std_tr = np.load('std_tr.npy')\n",
    "print(\"-- Predict --\")\n",
    "\n",
    "target=[]\n",
    "\n",
    "img = cv2.imread('testset_1/alpha/alpha.png', cv2.IMREAD_GRAYSCALE)\n",
    "(thresh, img) = cv2.threshold(img, 128, 255, cv2.THRESH_BINARY | cv2.THRESH_OTSU)\n",
    "\n",
    "img = normalize_single(img)\n",
    "plt.imshow(img, cmap='gray')\n",
    "plt.show()\n",
    "img-=mean_tr\n",
    "img/=std_tr\n",
    "target.append(img)\n",
    "\n",
    "img = cv2.imread('testset_1/beta/beta.png', cv2.IMREAD_GRAYSCALE)\n",
    "(thresh, img) = cv2.threshold(img, 128, 255, cv2.THRESH_BINARY | cv2.THRESH_OTSU)\n",
    "img = normalize_single(img)\n",
    "plt.imshow(img, cmap='gray')\n",
    "plt.show()\n",
    "img-=mean_tr\n",
    "img/=std_tr\n",
    "target.append(img)\n",
    "\n",
    "\n",
    "# print(img.shape)\n",
    "\n",
    "x = image.img_to_array(target)\n",
    "print(x.shape)\n",
    "x = np.expand_dims(x, axis=3)\n",
    "print(x.shape)\n",
    "# name_cls = test_generator.class_indices\n",
    "# print(name_cls)\n",
    "    \n",
    "rst = model.predict_classes(x)\n",
    "for sym in rst:\n",
    "    print([name for name, val in label_names_dict.items() if val == sym])"
   ]
  },
  {
   "cell_type": "code",
   "execution_count": null,
   "metadata": {},
   "outputs": [],
   "source": [
    "    "
   ]
  }
 ],
 "metadata": {
  "kernelspec": {
   "display_name": "Python 3",
   "language": "python",
   "name": "python3"
  },
  "language_info": {
   "codemirror_mode": {
    "name": "ipython",
    "version": 3
   },
   "file_extension": ".py",
   "mimetype": "text/x-python",
   "name": "python",
   "nbconvert_exporter": "python",
   "pygments_lexer": "ipython3",
   "version": "3.7.7"
  }
 },
 "nbformat": 4,
 "nbformat_minor": 4
}
